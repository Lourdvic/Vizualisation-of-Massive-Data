{
 "cells": [
  {
   "cell_type": "code",
   "execution_count": 2,
   "metadata": {},
   "outputs": [],
   "source": [
    "#import libs\n",
    "\n",
    "import numpy as np\n",
    "import pandas as pd\n",
    "import matplotlib.pyplot as plt\n",
    "import matplotlib.ticker as ticker\n",
    "import seaborn as sns\n",
    "\n",
    "# we using sklearn and Linear Reg for the Prediction\n",
    "\n",
    "from sklearn.linear_model import LinearRegression\n",
    "from sklearn.model_selection import train_test_split\n",
    "from sklearn.metrics import mean_absolute_error, mean_squared_error"
   ]
  },
  {
   "cell_type": "code",
   "execution_count": 4,
   "metadata": {},
   "outputs": [],
   "source": [
    "#we going to predict the future spread of the confirmed case\n",
    "\n",
    "COVID_CONFIRMED_URL = 'https://raw.githubusercontent.com/CSSEGISandData/COVID-19/master/csse_covid_19_data/csse_covid_19_time_series/time_series_covid19_confirmed_global.csv'\n",
    "covid_confirmed = pd.read_csv(COVID_CONFIRMED_URL)"
   ]
  },
  {
   "cell_type": "code",
   "execution_count": 5,
   "metadata": {},
   "outputs": [
    {
     "name": "stdout",
     "output_type": "stream",
     "text": [
      "(266, 107)\n"
     ]
    }
   ],
   "source": [
    "print(covid_confirmed.shape)"
   ]
  },
  {
   "cell_type": "code",
   "execution_count": 6,
   "metadata": {},
   "outputs": [
    {
     "data": {
      "text/html": [
       "<div>\n",
       "<style scoped>\n",
       "    .dataframe tbody tr th:only-of-type {\n",
       "        vertical-align: middle;\n",
       "    }\n",
       "\n",
       "    .dataframe tbody tr th {\n",
       "        vertical-align: top;\n",
       "    }\n",
       "\n",
       "    .dataframe thead th {\n",
       "        text-align: right;\n",
       "    }\n",
       "</style>\n",
       "<table border=\"1\" class=\"dataframe\">\n",
       "  <thead>\n",
       "    <tr style=\"text-align: right;\">\n",
       "      <th></th>\n",
       "      <th>Province/State</th>\n",
       "      <th>Country/Region</th>\n",
       "      <th>Lat</th>\n",
       "      <th>Long</th>\n",
       "      <th>1/22/20</th>\n",
       "      <th>1/23/20</th>\n",
       "      <th>1/24/20</th>\n",
       "      <th>1/25/20</th>\n",
       "      <th>1/26/20</th>\n",
       "      <th>1/27/20</th>\n",
       "      <th>...</th>\n",
       "      <th>4/24/20</th>\n",
       "      <th>4/25/20</th>\n",
       "      <th>4/26/20</th>\n",
       "      <th>4/27/20</th>\n",
       "      <th>4/28/20</th>\n",
       "      <th>4/29/20</th>\n",
       "      <th>4/30/20</th>\n",
       "      <th>5/1/20</th>\n",
       "      <th>5/2/20</th>\n",
       "      <th>5/3/20</th>\n",
       "    </tr>\n",
       "  </thead>\n",
       "  <tbody>\n",
       "    <tr>\n",
       "      <th>0</th>\n",
       "      <td>NaN</td>\n",
       "      <td>Afghanistan</td>\n",
       "      <td>33.0000</td>\n",
       "      <td>65.0000</td>\n",
       "      <td>0</td>\n",
       "      <td>0</td>\n",
       "      <td>0</td>\n",
       "      <td>0</td>\n",
       "      <td>0</td>\n",
       "      <td>0</td>\n",
       "      <td>...</td>\n",
       "      <td>1351</td>\n",
       "      <td>1463</td>\n",
       "      <td>1531</td>\n",
       "      <td>1703</td>\n",
       "      <td>1828</td>\n",
       "      <td>1939</td>\n",
       "      <td>2171</td>\n",
       "      <td>2335</td>\n",
       "      <td>2469</td>\n",
       "      <td>2704</td>\n",
       "    </tr>\n",
       "    <tr>\n",
       "      <th>1</th>\n",
       "      <td>NaN</td>\n",
       "      <td>Albania</td>\n",
       "      <td>41.1533</td>\n",
       "      <td>20.1683</td>\n",
       "      <td>0</td>\n",
       "      <td>0</td>\n",
       "      <td>0</td>\n",
       "      <td>0</td>\n",
       "      <td>0</td>\n",
       "      <td>0</td>\n",
       "      <td>...</td>\n",
       "      <td>678</td>\n",
       "      <td>712</td>\n",
       "      <td>726</td>\n",
       "      <td>736</td>\n",
       "      <td>750</td>\n",
       "      <td>766</td>\n",
       "      <td>773</td>\n",
       "      <td>782</td>\n",
       "      <td>789</td>\n",
       "      <td>795</td>\n",
       "    </tr>\n",
       "    <tr>\n",
       "      <th>2</th>\n",
       "      <td>NaN</td>\n",
       "      <td>Algeria</td>\n",
       "      <td>28.0339</td>\n",
       "      <td>1.6596</td>\n",
       "      <td>0</td>\n",
       "      <td>0</td>\n",
       "      <td>0</td>\n",
       "      <td>0</td>\n",
       "      <td>0</td>\n",
       "      <td>0</td>\n",
       "      <td>...</td>\n",
       "      <td>3127</td>\n",
       "      <td>3256</td>\n",
       "      <td>3382</td>\n",
       "      <td>3517</td>\n",
       "      <td>3649</td>\n",
       "      <td>3848</td>\n",
       "      <td>4006</td>\n",
       "      <td>4154</td>\n",
       "      <td>4295</td>\n",
       "      <td>4474</td>\n",
       "    </tr>\n",
       "    <tr>\n",
       "      <th>3</th>\n",
       "      <td>NaN</td>\n",
       "      <td>Andorra</td>\n",
       "      <td>42.5063</td>\n",
       "      <td>1.5218</td>\n",
       "      <td>0</td>\n",
       "      <td>0</td>\n",
       "      <td>0</td>\n",
       "      <td>0</td>\n",
       "      <td>0</td>\n",
       "      <td>0</td>\n",
       "      <td>...</td>\n",
       "      <td>731</td>\n",
       "      <td>738</td>\n",
       "      <td>738</td>\n",
       "      <td>743</td>\n",
       "      <td>743</td>\n",
       "      <td>743</td>\n",
       "      <td>745</td>\n",
       "      <td>745</td>\n",
       "      <td>747</td>\n",
       "      <td>748</td>\n",
       "    </tr>\n",
       "    <tr>\n",
       "      <th>4</th>\n",
       "      <td>NaN</td>\n",
       "      <td>Angola</td>\n",
       "      <td>-11.2027</td>\n",
       "      <td>17.8739</td>\n",
       "      <td>0</td>\n",
       "      <td>0</td>\n",
       "      <td>0</td>\n",
       "      <td>0</td>\n",
       "      <td>0</td>\n",
       "      <td>0</td>\n",
       "      <td>...</td>\n",
       "      <td>25</td>\n",
       "      <td>25</td>\n",
       "      <td>26</td>\n",
       "      <td>27</td>\n",
       "      <td>27</td>\n",
       "      <td>27</td>\n",
       "      <td>27</td>\n",
       "      <td>30</td>\n",
       "      <td>35</td>\n",
       "      <td>35</td>\n",
       "    </tr>\n",
       "  </tbody>\n",
       "</table>\n",
       "<p>5 rows × 107 columns</p>\n",
       "</div>"
      ],
      "text/plain": [
       "  Province/State Country/Region      Lat     Long  1/22/20  1/23/20  1/24/20  \\\n",
       "0            NaN    Afghanistan  33.0000  65.0000        0        0        0   \n",
       "1            NaN        Albania  41.1533  20.1683        0        0        0   \n",
       "2            NaN        Algeria  28.0339   1.6596        0        0        0   \n",
       "3            NaN        Andorra  42.5063   1.5218        0        0        0   \n",
       "4            NaN         Angola -11.2027  17.8739        0        0        0   \n",
       "\n",
       "   1/25/20  1/26/20  1/27/20  ...  4/24/20  4/25/20  4/26/20  4/27/20  \\\n",
       "0        0        0        0  ...     1351     1463     1531     1703   \n",
       "1        0        0        0  ...      678      712      726      736   \n",
       "2        0        0        0  ...     3127     3256     3382     3517   \n",
       "3        0        0        0  ...      731      738      738      743   \n",
       "4        0        0        0  ...       25       25       26       27   \n",
       "\n",
       "   4/28/20  4/29/20  4/30/20  5/1/20  5/2/20  5/3/20  \n",
       "0     1828     1939     2171    2335    2469    2704  \n",
       "1      750      766      773     782     789     795  \n",
       "2     3649     3848     4006    4154    4295    4474  \n",
       "3      743      743      745     745     747     748  \n",
       "4       27       27       27      30      35      35  \n",
       "\n",
       "[5 rows x 107 columns]"
      ]
     },
     "execution_count": 6,
     "metadata": {},
     "output_type": "execute_result"
    }
   ],
   "source": [
    "covid_confirmed.head()"
   ]
  },
  {
   "cell_type": "code",
   "execution_count": 7,
   "metadata": {},
   "outputs": [],
   "source": [
    "#we convert the wide data to a long one\n",
    "\n",
    "covid_confirmed_long = pd.melt(covid_confirmed,\n",
    "                               id_vars=covid_confirmed.iloc[:, :4],\n",
    "                               var_name='date',\n",
    "                               value_name='confirmed')"
   ]
  },
  {
   "cell_type": "code",
   "execution_count": 8,
   "metadata": {},
   "outputs": [
    {
     "data": {
      "text/plain": [
       "(27398, 6)"
      ]
     },
     "execution_count": 8,
     "metadata": {},
     "output_type": "execute_result"
    }
   ],
   "source": [
    "covid_confirmed_long.shape"
   ]
  },
  {
   "cell_type": "code",
   "execution_count": 9,
   "metadata": {},
   "outputs": [
    {
     "data": {
      "text/html": [
       "<div>\n",
       "<style scoped>\n",
       "    .dataframe tbody tr th:only-of-type {\n",
       "        vertical-align: middle;\n",
       "    }\n",
       "\n",
       "    .dataframe tbody tr th {\n",
       "        vertical-align: top;\n",
       "    }\n",
       "\n",
       "    .dataframe thead th {\n",
       "        text-align: right;\n",
       "    }\n",
       "</style>\n",
       "<table border=\"1\" class=\"dataframe\">\n",
       "  <thead>\n",
       "    <tr style=\"text-align: right;\">\n",
       "      <th></th>\n",
       "      <th>Province/State</th>\n",
       "      <th>Country/Region</th>\n",
       "      <th>Lat</th>\n",
       "      <th>Long</th>\n",
       "      <th>date</th>\n",
       "      <th>confirmed</th>\n",
       "    </tr>\n",
       "  </thead>\n",
       "  <tbody>\n",
       "    <tr>\n",
       "      <th>0</th>\n",
       "      <td>NaN</td>\n",
       "      <td>Afghanistan</td>\n",
       "      <td>33.0000</td>\n",
       "      <td>65.0000</td>\n",
       "      <td>1/22/20</td>\n",
       "      <td>0</td>\n",
       "    </tr>\n",
       "    <tr>\n",
       "      <th>1</th>\n",
       "      <td>NaN</td>\n",
       "      <td>Albania</td>\n",
       "      <td>41.1533</td>\n",
       "      <td>20.1683</td>\n",
       "      <td>1/22/20</td>\n",
       "      <td>0</td>\n",
       "    </tr>\n",
       "    <tr>\n",
       "      <th>2</th>\n",
       "      <td>NaN</td>\n",
       "      <td>Algeria</td>\n",
       "      <td>28.0339</td>\n",
       "      <td>1.6596</td>\n",
       "      <td>1/22/20</td>\n",
       "      <td>0</td>\n",
       "    </tr>\n",
       "    <tr>\n",
       "      <th>3</th>\n",
       "      <td>NaN</td>\n",
       "      <td>Andorra</td>\n",
       "      <td>42.5063</td>\n",
       "      <td>1.5218</td>\n",
       "      <td>1/22/20</td>\n",
       "      <td>0</td>\n",
       "    </tr>\n",
       "    <tr>\n",
       "      <th>4</th>\n",
       "      <td>NaN</td>\n",
       "      <td>Angola</td>\n",
       "      <td>-11.2027</td>\n",
       "      <td>17.8739</td>\n",
       "      <td>1/22/20</td>\n",
       "      <td>0</td>\n",
       "    </tr>\n",
       "  </tbody>\n",
       "</table>\n",
       "</div>"
      ],
      "text/plain": [
       "  Province/State Country/Region      Lat     Long     date  confirmed\n",
       "0            NaN    Afghanistan  33.0000  65.0000  1/22/20          0\n",
       "1            NaN        Albania  41.1533  20.1683  1/22/20          0\n",
       "2            NaN        Algeria  28.0339   1.6596  1/22/20          0\n",
       "3            NaN        Andorra  42.5063   1.5218  1/22/20          0\n",
       "4            NaN         Angola -11.2027  17.8739  1/22/20          0"
      ]
     },
     "execution_count": 9,
     "metadata": {},
     "output_type": "execute_result"
    }
   ],
   "source": [
    "covid_confirmed_long.head()"
   ]
  },
  {
   "cell_type": "code",
   "execution_count": 12,
   "metadata": {},
   "outputs": [
    {
     "data": {
      "text/plain": [
       "0"
      ]
     },
     "execution_count": 12,
     "metadata": {},
     "output_type": "execute_result"
    }
   ],
   "source": [
    "#data cleaning\n",
    "\n",
    "covid_confirmed_long[['Province/State']] = covid_confirmed_long[['Province/State']].fillna('')\n",
    "covid_confirmed_long.fillna(0, inplace=True)\n",
    "covid_confirmed_long.isna().sum().sum()"
   ]
  },
  {
   "cell_type": "code",
   "execution_count": 13,
   "metadata": {},
   "outputs": [],
   "source": [
    "#sort values by Country and date & remove unuseful columns\n",
    "\n",
    "covid_countries_date_df = covid_confirmed_long.groupby(['Country/Region', 'date'], sort=False).sum().reset_index()\n",
    "covid_countries_date_df.drop(['Lat', 'Long'], axis=1, inplace=True)"
   ]
  },
  {
   "cell_type": "code",
   "execution_count": 14,
   "metadata": {},
   "outputs": [
    {
     "data": {
      "text/html": [
       "<div>\n",
       "<style scoped>\n",
       "    .dataframe tbody tr th:only-of-type {\n",
       "        vertical-align: middle;\n",
       "    }\n",
       "\n",
       "    .dataframe tbody tr th {\n",
       "        vertical-align: top;\n",
       "    }\n",
       "\n",
       "    .dataframe thead th {\n",
       "        text-align: right;\n",
       "    }\n",
       "</style>\n",
       "<table border=\"1\" class=\"dataframe\">\n",
       "  <thead>\n",
       "    <tr style=\"text-align: right;\">\n",
       "      <th></th>\n",
       "      <th>Country/Region</th>\n",
       "      <th>date</th>\n",
       "      <th>confirmed</th>\n",
       "    </tr>\n",
       "  </thead>\n",
       "  <tbody>\n",
       "    <tr>\n",
       "      <th>0</th>\n",
       "      <td>Afghanistan</td>\n",
       "      <td>1/22/20</td>\n",
       "      <td>0</td>\n",
       "    </tr>\n",
       "    <tr>\n",
       "      <th>1</th>\n",
       "      <td>Albania</td>\n",
       "      <td>1/22/20</td>\n",
       "      <td>0</td>\n",
       "    </tr>\n",
       "    <tr>\n",
       "      <th>2</th>\n",
       "      <td>Algeria</td>\n",
       "      <td>1/22/20</td>\n",
       "      <td>0</td>\n",
       "    </tr>\n",
       "    <tr>\n",
       "      <th>3</th>\n",
       "      <td>Andorra</td>\n",
       "      <td>1/22/20</td>\n",
       "      <td>0</td>\n",
       "    </tr>\n",
       "    <tr>\n",
       "      <th>4</th>\n",
       "      <td>Angola</td>\n",
       "      <td>1/22/20</td>\n",
       "      <td>0</td>\n",
       "    </tr>\n",
       "    <tr>\n",
       "      <th>...</th>\n",
       "      <td>...</td>\n",
       "      <td>...</td>\n",
       "      <td>...</td>\n",
       "    </tr>\n",
       "    <tr>\n",
       "      <th>19256</th>\n",
       "      <td>Western Sahara</td>\n",
       "      <td>5/3/20</td>\n",
       "      <td>6</td>\n",
       "    </tr>\n",
       "    <tr>\n",
       "      <th>19257</th>\n",
       "      <td>Sao Tome and Principe</td>\n",
       "      <td>5/3/20</td>\n",
       "      <td>16</td>\n",
       "    </tr>\n",
       "    <tr>\n",
       "      <th>19258</th>\n",
       "      <td>Yemen</td>\n",
       "      <td>5/3/20</td>\n",
       "      <td>10</td>\n",
       "    </tr>\n",
       "    <tr>\n",
       "      <th>19259</th>\n",
       "      <td>Comoros</td>\n",
       "      <td>5/3/20</td>\n",
       "      <td>3</td>\n",
       "    </tr>\n",
       "    <tr>\n",
       "      <th>19260</th>\n",
       "      <td>Tajikistan</td>\n",
       "      <td>5/3/20</td>\n",
       "      <td>128</td>\n",
       "    </tr>\n",
       "  </tbody>\n",
       "</table>\n",
       "<p>19261 rows × 3 columns</p>\n",
       "</div>"
      ],
      "text/plain": [
       "              Country/Region     date  confirmed\n",
       "0                Afghanistan  1/22/20          0\n",
       "1                    Albania  1/22/20          0\n",
       "2                    Algeria  1/22/20          0\n",
       "3                    Andorra  1/22/20          0\n",
       "4                     Angola  1/22/20          0\n",
       "...                      ...      ...        ...\n",
       "19256         Western Sahara   5/3/20          6\n",
       "19257  Sao Tome and Principe   5/3/20         16\n",
       "19258                  Yemen   5/3/20         10\n",
       "19259                Comoros   5/3/20          3\n",
       "19260             Tajikistan   5/3/20        128\n",
       "\n",
       "[19261 rows x 3 columns]"
      ]
     },
     "execution_count": 14,
     "metadata": {},
     "output_type": "execute_result"
    }
   ],
   "source": [
    "covid_countries_date_df"
   ]
  },
  {
   "cell_type": "code",
   "execution_count": 15,
   "metadata": {},
   "outputs": [
    {
     "data": {
      "text/html": [
       "<div>\n",
       "<style scoped>\n",
       "    .dataframe tbody tr th:only-of-type {\n",
       "        vertical-align: middle;\n",
       "    }\n",
       "\n",
       "    .dataframe tbody tr th {\n",
       "        vertical-align: top;\n",
       "    }\n",
       "\n",
       "    .dataframe thead th {\n",
       "        text-align: right;\n",
       "    }\n",
       "</style>\n",
       "<table border=\"1\" class=\"dataframe\">\n",
       "  <thead>\n",
       "    <tr style=\"text-align: right;\">\n",
       "      <th></th>\n",
       "      <th>Country/Region</th>\n",
       "      <th>date</th>\n",
       "      <th>confirmed</th>\n",
       "    </tr>\n",
       "  </thead>\n",
       "  <tbody>\n",
       "    <tr>\n",
       "      <th>56</th>\n",
       "      <td>France</td>\n",
       "      <td>1/22/20</td>\n",
       "      <td>0</td>\n",
       "    </tr>\n",
       "    <tr>\n",
       "      <th>243</th>\n",
       "      <td>France</td>\n",
       "      <td>1/23/20</td>\n",
       "      <td>0</td>\n",
       "    </tr>\n",
       "    <tr>\n",
       "      <th>430</th>\n",
       "      <td>France</td>\n",
       "      <td>1/24/20</td>\n",
       "      <td>2</td>\n",
       "    </tr>\n",
       "    <tr>\n",
       "      <th>617</th>\n",
       "      <td>France</td>\n",
       "      <td>1/25/20</td>\n",
       "      <td>3</td>\n",
       "    </tr>\n",
       "    <tr>\n",
       "      <th>804</th>\n",
       "      <td>France</td>\n",
       "      <td>1/26/20</td>\n",
       "      <td>3</td>\n",
       "    </tr>\n",
       "  </tbody>\n",
       "</table>\n",
       "</div>"
      ],
      "text/plain": [
       "    Country/Region     date  confirmed\n",
       "56          France  1/22/20          0\n",
       "243         France  1/23/20          0\n",
       "430         France  1/24/20          2\n",
       "617         France  1/25/20          3\n",
       "804         France  1/26/20          3"
      ]
     },
     "execution_count": 15,
     "metadata": {},
     "output_type": "execute_result"
    }
   ],
   "source": [
    "#et's take the France\n",
    "\n",
    "COUNTRY = 'France'\n",
    "\n",
    "covid_country = covid_countries_date_df[covid_countries_date_df['Country/Region'] == COUNTRY]\n",
    "\n",
    "covid_country.head()"
   ]
  },
  {
   "cell_type": "code",
   "execution_count": 17,
   "metadata": {},
   "outputs": [
    {
     "data": {
      "text/plain": [
       "array([  0,   1,   2,   3,   4,   5,   6,   7,   8,   9,  10,  11,  12,\n",
       "        13,  14,  15,  16,  17,  18,  19,  20,  21,  22,  23,  24,  25,\n",
       "        26,  27,  28,  29,  30,  31,  32,  33,  34,  35,  36,  37,  38,\n",
       "        39,  40,  41,  42,  43,  44,  45,  46,  47,  48,  49,  50,  51,\n",
       "        52,  53,  54,  55,  56,  57,  58,  59,  60,  61,  62,  63,  64,\n",
       "        65,  66,  67,  68,  69,  70,  71,  72,  73,  74,  75,  76,  77,\n",
       "        78,  79,  80,  81,  82,  83,  84,  85,  86,  87,  88,  89,  90,\n",
       "        91,  92,  93,  94,  95,  96,  97,  98,  99, 100, 101, 102])"
      ]
     },
     "execution_count": 17,
     "metadata": {},
     "output_type": "execute_result"
    }
   ],
   "source": [
    "#sum the days from the beginning\n",
    "\n",
    "days = np.array([i for i in range(len(covid_country['date']))])\n",
    "\n",
    "days"
   ]
  },
  {
   "cell_type": "code",
   "execution_count": 19,
   "metadata": {},
   "outputs": [
    {
     "data": {
      "image/png": "[encoded data removed]",
      "text/plain": [
       "<Figure size 432x288 with 1 Axes>"
      ]
     },
     "metadata": {
      "needs_background": "light"
     },
     "output_type": "display_data"
    }
   ],
   "source": [
    "#plot it \n",
    "\n",
    "days = np.array([i for i in range(len(covid_country['date']))])\n",
    "\n",
    "sns.lineplot(x=days, y=covid_country['confirmed'],\n",
    "             markeredgecolor=\"#3498db\", markerfacecolor=\"#3498db\", markersize=8, marker=\"o\",\n",
    "             sort=False, linewidth=1, color=\"#3498db\")\n",
    "\n",
    "plt.suptitle(f\"COVID-19 confirmed cases in {COUNTRY} over the time\", fontsize=16, fontweight='bold', color='white')\n",
    "\n",
    "plt.ylabel('Confirmed cases')\n",
    "plt.xlabel('Days since 1/22')\n",
    "\n",
    "plt.show()\n"
   ]
  },
  {
   "cell_type": "code",
   "execution_count": 26,
   "metadata": {},
   "outputs": [
    {
     "data": {
      "image/png": "[encoded data removed]",
      "text/plain": [
       "<Figure size 1152x432 with 1 Axes>"
      ]
     },
     "metadata": {
      "needs_background": "light"
     },
     "output_type": "display_data"
    }
   ],
   "source": [
    "#plot the same but using logarithmic scale\n",
    "\n",
    "fig, ax = plt.subplots(figsize=(16, 6))\n",
    "\n",
    "ax.set(yscale=\"log\")\n",
    "ax.yaxis.set_major_formatter(ticker.FuncFormatter(lambda y, _: '{:g}'.format(y)))\n",
    "plt.title(\"(logarithmic scale)\", color='white')\n",
    "\n",
    "sns.lineplot(x=days, y=covid_country['confirmed'],\n",
    "             markeredgecolor=\"#3498db\", markerfacecolor=\"#3498db\", markersize=8, marker=\"o\",\n",
    "             sort=False, linewidth=1, color=\"#3498db\")\n",
    "\n",
    "plt.suptitle(f\"COVID-19 confirmed cases in {COUNTRY} over the time\", fontsize=16, fontweight='bold', color='white')\n",
    "\n",
    "plt.ylabel('Confirmed cases')\n",
    "plt.xlabel('Days since 1/22')\n",
    "\n",
    "plt.show()"
   ]
  },
  {
   "cell_type": "code",
   "execution_count": 27,
   "metadata": {},
   "outputs": [
    {
     "data": {
      "text/plain": [
       "[12,\n",
       " 12,\n",
       " 12,\n",
       " 12,\n",
       " 14,\n",
       " 18,\n",
       " 38,\n",
       " 57,\n",
       " 100,\n",
       " 130,\n",
       " 191,\n",
       " 204,\n",
       " 288,\n",
       " 380,\n",
       " 656,\n",
       " 959,\n",
       " 1136,\n",
       " 1219,\n",
       " 1794,\n",
       " 2293,\n",
       " 2293,\n",
       " 3681,\n",
       " 4496,\n",
       " 4532,\n",
       " 6683,\n",
       " 7715,\n",
       " 9124,\n",
       " 10970,\n",
       " 12758,\n",
       " 14463,\n",
       " 16243,\n",
       " 20123,\n",
       " 22622,\n",
       " 25600,\n",
       " 29551,\n",
       " 33402,\n",
       " 38105,\n",
       " 40708,\n",
       " 45170,\n",
       " 52827,\n",
       " 57749,\n",
       " 59929,\n",
       " 65202,\n",
       " 69500,\n",
       " 71412,\n",
       " 75343,\n",
       " 79163,\n",
       " 83057,\n",
       " 87366,\n",
       " 91738,\n",
       " 94863,\n",
       " 121712,\n",
       " 125394,\n",
       " 130365,\n",
       " 133585,\n",
       " 146075,\n",
       " 148084,\n",
       " 148086,\n",
       " 153011,\n",
       " 155393]"
      ]
     },
     "execution_count": 27,
     "metadata": {},
     "output_type": "execute_result"
    }
   ],
   "source": [
    "# skip some unuseful days\n",
    "\n",
    "SKIP_DAYS = 30\n",
    "\n",
    "covid_country_confirmed_sm = list(covid_country['confirmed'][SKIP_DAYS:])\n",
    "\n",
    "covid_country_confirmed_sm[:60]\n"
   ]
  },
  {
   "cell_type": "code",
   "execution_count": 30,
   "metadata": {},
   "outputs": [
    {
     "data": {
      "text/plain": [
       "array([[ 30],\n",
       "       [ 31],\n",
       "       [ 32],\n",
       "       [ 33],\n",
       "       [ 34],\n",
       "       [ 35],\n",
       "       [ 36],\n",
       "       [ 37],\n",
       "       [ 38],\n",
       "       [ 39],\n",
       "       [ 40],\n",
       "       [ 41],\n",
       "       [ 42],\n",
       "       [ 43],\n",
       "       [ 44],\n",
       "       [ 45],\n",
       "       [ 46],\n",
       "       [ 47],\n",
       "       [ 48],\n",
       "       [ 49],\n",
       "       [ 50],\n",
       "       [ 51],\n",
       "       [ 52],\n",
       "       [ 53],\n",
       "       [ 54],\n",
       "       [ 55],\n",
       "       [ 56],\n",
       "       [ 57],\n",
       "       [ 58],\n",
       "       [ 59],\n",
       "       [ 60],\n",
       "       [ 61],\n",
       "       [ 62],\n",
       "       [ 63],\n",
       "       [ 64],\n",
       "       [ 65],\n",
       "       [ 66],\n",
       "       [ 67],\n",
       "       [ 68],\n",
       "       [ 69],\n",
       "       [ 70],\n",
       "       [ 71],\n",
       "       [ 72],\n",
       "       [ 73],\n",
       "       [ 74],\n",
       "       [ 75],\n",
       "       [ 76],\n",
       "       [ 77],\n",
       "       [ 78],\n",
       "       [ 79],\n",
       "       [ 80],\n",
       "       [ 81],\n",
       "       [ 82],\n",
       "       [ 83],\n",
       "       [ 84],\n",
       "       [ 85],\n",
       "       [ 86],\n",
       "       [ 87],\n",
       "       [ 88],\n",
       "       [ 89],\n",
       "       [ 90],\n",
       "       [ 91],\n",
       "       [ 92],\n",
       "       [ 93],\n",
       "       [ 94],\n",
       "       [ 95],\n",
       "       [ 96],\n",
       "       [ 97],\n",
       "       [ 98],\n",
       "       [ 99],\n",
       "       [100],\n",
       "       [101],\n",
       "       [102]])"
      ]
     },
     "execution_count": 30,
     "metadata": {},
     "output_type": "execute_result"
    }
   ],
   "source": [
    "# x will be the days and y the confirdmed cases\n",
    "\n",
    "X = days[SKIP_DAYS:].reshape(-1, 1)\n",
    "\n",
    "X"
   ]
  },
  {
   "cell_type": "code",
   "execution_count": 31,
   "metadata": {},
   "outputs": [
    {
     "data": {
      "text/plain": [
       "[2.4849066497880004,\n",
       " 2.4849066497880004,\n",
       " 2.4849066497880004,\n",
       " 2.4849066497880004,\n",
       " 2.6390573296152584,\n",
       " 2.8903717578961645,\n",
       " 3.6375861597263857,\n",
       " 4.04305126783455,\n",
       " 4.605170185988092,\n",
       " 4.867534450455582,\n",
       " 5.25227342804663,\n",
       " 5.318119993844216,\n",
       " 5.662960480135946,\n",
       " 5.940171252720432,\n",
       " 6.486160788944089,\n",
       " 6.8658910748834385,\n",
       " 7.035268599281097,\n",
       " 7.105786129481271,\n",
       " 7.492203042618741,\n",
       " 7.737616282857904,\n",
       " 7.737616282857904,\n",
       " 8.210939733379021,\n",
       " 8.410943391573527,\n",
       " 8.418918622147897,\n",
       " 8.80732226751107,\n",
       " 8.950921764797261,\n",
       " 9.11866358340428,\n",
       " 9.302919553269277,\n",
       " 9.4539138048019,\n",
       " 9.579348943073732,\n",
       " 9.695417325719395,\n",
       " 9.909618718466369,\n",
       " 10.026678163091326,\n",
       " 10.150347630467653,\n",
       " 10.293872863209199,\n",
       " 10.416371057411563,\n",
       " 10.548100786100218,\n",
       " 10.614179912311823,\n",
       " 10.71818842864865,\n",
       " 10.874777702628888,\n",
       " 10.9638613122168,\n",
       " 11.000915807179194,\n",
       " 11.085245422290907,\n",
       " 11.149082031552883,\n",
       " 11.176221201432853,\n",
       " 11.229806299938259,\n",
       " 11.279264296926641,\n",
       " 11.32728239806388,\n",
       " 11.37786146993896,\n",
       " 11.426691967172298,\n",
       " 11.460189024484942,\n",
       " 11.709412877237082,\n",
       " 11.739216059146306,\n",
       " 11.778093487539671,\n",
       " 11.80249325833222,\n",
       " 11.891875467422638,\n",
       " 11.905534959308266,\n",
       " 11.905548465065095,\n",
       " 11.938265093215056,\n",
       " 11.953712670856081,\n",
       " 11.971413038254717,\n",
       " 11.95748307288449,\n",
       " 11.97226619704771,\n",
       " 11.982629049206961,\n",
       " 11.993151665236137,\n",
       " 11.996708717624335,\n",
       " 12.019520150928399,\n",
       " 12.037967554207496,\n",
       " 12.02300881331797,\n",
       " 12.02753790967074,\n",
       " 12.027573772959885,\n",
       " 12.034797847994993,\n",
       " 12.037210108420375]"
      ]
     },
     "execution_count": 31,
     "metadata": {},
     "output_type": "execute_result"
    }
   ],
   "source": [
    "y = list(np.log(covid_country_confirmed_sm))\n",
    "\n",
    "y"
   ]
  },
  {
   "cell_type": "code",
   "execution_count": 32,
   "metadata": {},
   "outputs": [],
   "source": [
    "# split our data so that we can have a train & test data\n",
    "\n",
    "X_train, X_test, y_train, y_test = train_test_split(X, y,\n",
    "                                                    test_size=0.1,\n",
    "                                                    shuffle=False)"
   ]
  },
  {
   "cell_type": "code",
   "execution_count": 33,
   "metadata": {},
   "outputs": [
    {
     "data": {
      "text/plain": [
       "LinearRegression(copy_X=True, fit_intercept=True, n_jobs=None, normalize=False)"
      ]
     },
     "execution_count": 33,
     "metadata": {},
     "output_type": "execute_result"
    }
   ],
   "source": [
    "#create linear regression model\n",
    "#train our model thank to the fit() method\n",
    "\n",
    "linear_model = LinearRegression(fit_intercept=True)\n",
    "\n",
    "linear_model.fit(X_train, y_train)"
   ]
  },
  {
   "cell_type": "code",
   "execution_count": 53,
   "metadata": {},
   "outputs": [
    {
     "data": {
      "text/plain": [
       "array([13.95334017, 14.10636193, 14.2593837 , 14.41240546, 14.56542723,\n",
       "       14.71844899, 14.87147076, 15.02449252])"
      ]
     },
     "execution_count": 53,
     "metadata": {},
     "output_type": "execute_result"
    }
   ],
   "source": [
    "#use the model for prediction\n",
    "\n",
    "y_pred = linear_model.predict(X_test)\n",
    "\n",
    "y_pred"
   ]
  },
  {
   "cell_type": "code",
   "execution_count": 55,
   "metadata": {},
   "outputs": [
    {
     "name": "stdout",
     "output_type": "stream",
     "text": [
      "MAE: 2.4633757357420834\n",
      "MSE: 6.184935291811668\n"
     ]
    }
   ],
   "source": [
    "#evaluation of the model\n",
    "\n",
    "print('MAE:', mean_absolute_error(y_pred, y_test))\n",
    "print('MSE:',mean_squared_error(y_pred, y_test))"
   ]
  },
  {
   "cell_type": "code",
   "execution_count": 36,
   "metadata": {},
   "outputs": [],
   "source": [
    "#linear regression formula : y = ax + b\n",
    "\n",
    "a = linear_model.coef_\n",
    "b = linear_model.intercept_\n"
   ]
  },
  {
   "cell_type": "code",
   "execution_count": 50,
   "metadata": {},
   "outputs": [
    {
     "data": {
      "text/plain": [
       "([103,\n",
       "  104,\n",
       "  105,\n",
       "  106,\n",
       "  107,\n",
       "  108,\n",
       "  109,\n",
       "  110,\n",
       "  111,\n",
       "  112,\n",
       "  113,\n",
       "  114,\n",
       "  115,\n",
       "  116,\n",
       "  117,\n",
       "  118,\n",
       "  119,\n",
       "  120,\n",
       "  121,\n",
       "  122,\n",
       "  123,\n",
       "  124,\n",
       "  125,\n",
       "  126,\n",
       "  127,\n",
       "  128,\n",
       "  129,\n",
       "  130,\n",
       "  131,\n",
       "  132],\n",
       " [15.177514285775358,\n",
       "  15.330536050362635,\n",
       "  15.483557814949915,\n",
       "  15.636579579537191,\n",
       "  15.789601344124467,\n",
       "  15.942623108711746,\n",
       "  16.095644873299026,\n",
       "  16.248666637886302,\n",
       "  16.401688402473578,\n",
       "  16.554710167060858,\n",
       "  16.707731931648137,\n",
       "  16.860753696235413,\n",
       "  17.01377546082269,\n",
       "  17.16679722540997,\n",
       "  17.31981898999725,\n",
       "  17.472840754584524,\n",
       "  17.6258625191718,\n",
       "  17.77888428375908,\n",
       "  17.93190604834636,\n",
       "  18.084927812933635,\n",
       "  18.23794957752091,\n",
       "  18.39097134210819,\n",
       "  18.54399310669547,\n",
       "  18.697014871282747,\n",
       "  18.850036635870023,\n",
       "  19.003058400457302,\n",
       "  19.15608016504458,\n",
       "  19.309101929631858,\n",
       "  19.462123694219134,\n",
       "  19.615145458806413])"
      ]
     },
     "execution_count": 50,
     "metadata": {},
     "output_type": "execute_result"
    }
   ],
   "source": [
    "#predict the next 30 days\n",
    "\n",
    "X_fore = list(np.arange(len(days), len(days) + 30))\n",
    "y_fore = [(a*x+b)[0] for x in X_fore]\n",
    "\n",
    "X_fore, y_fore"
   ]
  },
  {
   "cell_type": "code",
   "execution_count": 51,
   "metadata": {},
   "outputs": [],
   "source": [
    "#go back to linear data in order to interpret it better\n",
    "\n",
    "y_train_l = list(np.exp(y_train))\n",
    "y_test_l = list(np.exp(y_test))\n",
    "y_pred_l = list(np.exp(y_pred))\n",
    "y_fore_l = list(np.exp(y_fore))"
   ]
  },
  {
   "cell_type": "code",
   "execution_count": 52,
   "metadata": {},
   "outputs": [
    {
     "data": {
      "image/png": "[encoded data removed]",
      "text/plain": [
       "<Figure size 1152x432 with 1 Axes>"
      ]
     },
     "metadata": {
      "needs_background": "light"
     },
     "output_type": "display_data"
    }
   ],
   "source": [
    "#plot it \n",
    "\n",
    "fig, ax = plt.subplots(figsize=(16, 6))\n",
    "\n",
    "sns.lineplot(x=days, y=covid_country['confirmed'],\n",
    "             markeredgecolor=\"#2980b9\", markerfacecolor=\"#2980b9\", markersize=8, marker=\"o\",\n",
    "             sort=False, linewidth=1, color=\"#2980b9\")\n",
    "\n",
    "sns.lineplot(x=X_train.reshape(-1), y=y_train_l,\n",
    "             markeredgecolor=\"#3498db\", markerfacecolor=\"#3498db\", markersize=8, marker=\"o\",\n",
    "             sort=False, linewidth=1, color=\"#3498db\")\n",
    "\n",
    "sns.lineplot(x=X_test.reshape(-1), y=y_test_l,\n",
    "             markeredgecolor=\"#e67e22\", markerfacecolor=\"#e67e22\", markersize=8, marker=\"o\",\n",
    "             sort=False, linewidth=1, color=\"#e67e22\")\n",
    "\n",
    "sns.lineplot(x=X_test.reshape(-1), y=y_pred_l,\n",
    "             markeredgecolor=\"#f1c40f\", markerfacecolor=\"#f1c40f\", markersize=8, marker=\"o\",\n",
    "             sort=False, linewidth=1, color=\"#f1c40f\")\n",
    "\n",
    "sns.lineplot(x=X_fore, y=y_fore_l,\n",
    "             markeredgecolor=\"#2ecc71\", markerfacecolor=\"#2ecc71\", markersize=8, marker=\"o\",\n",
    "             sort=False, linewidth=1, color=\"#2ecc71\")\n",
    "\n",
    "plt.suptitle(f\"COVID-19 confirmed cases and forecasting in {COUNTRY} over the time\", fontsize=16, fontweight='bold', color='white')\n",
    "\n",
    "plt.ylabel('Confirmed cases')\n",
    "plt.xlabel('Days since 1/22')\n",
    "\n",
    "plt.legend(['Unused train data', 'Train data', 'Test data', 'Predictions', 'Forecast'])\n",
    "plt.savefig('reg.svg', format='svg', dpi=1200)\n",
    "plt.show()"
   ]
  },
  {
   "cell_type": "code",
   "execution_count": null,
   "metadata": {},
   "outputs": [],
   "source": []
  }
 ],
 "metadata": {
  "kernelspec": {
   "display_name": "Python 3",
   "language": "python",
   "name": "python3"
  },
  "language_info": {
   "codemirror_mode": {
    "name": "ipython",
    "version": 3
   },
   "file_extension": ".py",
   "mimetype": "text/x-python",
   "name": "python",
   "nbconvert_exporter": "python",
   "pygments_lexer": "ipython3",
   "version": "3.7.2"
  }
 },
 "nbformat": 4,
 "nbformat_minor": 4
}
